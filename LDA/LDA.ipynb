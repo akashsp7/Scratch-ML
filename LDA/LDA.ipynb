{
 "cells": [
  {
   "cell_type": "markdown",
   "metadata": {},
   "source": [
    "# 1) LDA with least squares"
   ]
  },
  {
   "cell_type": "markdown",
   "metadata": {},
   "source": [
    "### a) on paper"
   ]
  },
  {
   "cell_type": "markdown",
   "metadata": {},
   "source": [
    "### b) Generating dataset"
   ]
  },
  {
   "cell_type": "code",
   "execution_count": 216,
   "metadata": {},
   "outputs": [],
   "source": [
    "import numpy as np\n",
    "from sklearn import datasets\n",
    "X, y = datasets.make_blobs(n_samples = 200, n_features= 4,\n",
    "centers = 2, cluster_std= 2, random_state= 100)"
   ]
  },
  {
   "cell_type": "markdown",
   "metadata": {},
   "source": [
    "### c) Scikit learn LDA"
   ]
  },
  {
   "cell_type": "code",
   "execution_count": 217,
   "metadata": {},
   "outputs": [],
   "source": [
    "def unit_vector(w):\n",
    "    w_len = np.linalg.norm(w)\n",
    "    return w/w_len    "
   ]
  },
  {
   "cell_type": "code",
   "execution_count": 218,
   "metadata": {},
   "outputs": [
    {
     "name": "stdout",
     "output_type": "stream",
     "text": [
      "w_clf: [-13.15991647  -2.59459674  -0.36223565   1.68986516  -0.37538227]\n",
      "unit vector of w_clf: [-0.97269447 -0.19177553 -0.02677408  0.12490372 -0.02774579]\n",
      "accuracy: 0.995\n",
      "[[ 0.84922503 -4.62796125 -1.41577713  6.99374839]\n",
      " [-9.9060701  -7.7246149   3.39540691  6.32301981]]\n"
     ]
    }
   ],
   "source": [
    "from sklearn.discriminant_analysis import LinearDiscriminantAnalysis\n",
    "from sklearn.metrics import accuracy_score\n",
    "clf = LinearDiscriminantAnalysis()\n",
    "clf.fit(X,y)\n",
    "y_preds = clf.predict(X)\n",
    "w_clf = np.array([clf.intercept_[0]] + [clf.coef_[0][i] for i in range(0,4)])\n",
    "print(f'w_clf: {w_clf}')\n",
    "wclf_hat = unit_vector(w_clf)\n",
    "print(f'unit vector of w_clf: {wclf_hat}')\n",
    "print(f'accuracy: {accuracy_score(y,y_preds)}')\n",
    "print(clf.means_)"
   ]
  },
  {
   "cell_type": "markdown",
   "metadata": {},
   "source": [
    "### d) Comparing directions"
   ]
  },
  {
   "cell_type": "code",
   "execution_count": 219,
   "metadata": {},
   "outputs": [
    {
     "name": "stdout",
     "output_type": "stream",
     "text": [
      "m0: [ 0.84922503 -4.62796125 -1.41577713  6.99374839]\n",
      "m1: [-9.9060701  -7.7246149   3.39540691  6.32301981]\n",
      "mean seperator: [-10.75529513  -3.09665365   4.81118404  -0.67072859]\n"
     ]
    }
   ],
   "source": [
    "m0 = np.array([np.mean(X[y==0][:, i]) for i in range(0,4)])\n",
    "m1 = np.array([np.mean(X[y==1][:, i]) for i in range(0,4)])\n",
    "m = m1 - m0\n",
    "print(f'm0: {m0}')\n",
    "print(f'm1: {m1}')\n",
    "print(f'mean seperator: {m}')"
   ]
  },
  {
   "cell_type": "code",
   "execution_count": 220,
   "metadata": {},
   "outputs": [
    {
     "name": "stdout",
     "output_type": "stream",
     "text": [
      "The within-class covariance is \n",
      " [[ 947.22219803  102.33358083  176.84605686 -176.71073141]\n",
      " [ 102.33358083  838.32220079  -11.35168158   65.98618758]\n",
      " [ 176.84605686  -11.35168158  803.0006232  -134.22020078]\n",
      " [-176.71073141   65.98618758 -134.22020078  907.29047659]]\n",
      "\n",
      "The inverse within-class covariance is \n",
      " [[ 1.15233718e-03 -1.59666466e-04 -2.22073971e-04  2.03197674e-04]\n",
      " [-1.59666466e-04  1.22185464e-03  3.32060929e-05 -1.15049569e-04]\n",
      " [-2.22073971e-04  3.32060929e-05  1.31970537e-03  1.49563040e-04]\n",
      " [ 2.03197674e-04 -1.15049569e-04  1.49563040e-04  1.17225222e-03]]\n"
     ]
    }
   ],
   "source": [
    "Sw0 = np.matmul((X[y==0]-m0).T,(X[y==0]-m0))\n",
    "Sw1 = np.matmul((X[y==1]-m1).T,(X[y==1]-m1))\n",
    "Sw=Sw0+Sw1\n",
    "print(f'The within-class covariance is \\n {Sw}\\n')\n",
    "Sw_inv = np.linalg.inv(Sw)\n",
    "print(f'The inverse within-class covariance is \\n {Sw_inv}')"
   ]
  },
  {
   "cell_type": "code",
   "execution_count": 221,
   "metadata": {},
   "outputs": [
    {
     "name": "stdout",
     "output_type": "stream",
     "text": [
      "Since w is proportional to the product of Sw_inv and m,\n",
      "We get the direction of w from the signs of product:\n",
      "w ∝ [-0.01310402 -0.00182947  0.00853467 -0.00189587]\n"
     ]
    }
   ],
   "source": [
    "n = len(X[:,0])\n",
    "w_proportional = np.matmul(Sw_inv,m)\n",
    "print(f'''Since w is proportional to the product of Sw_inv and m,\n",
    "We get the direction of w from the signs of product:\n",
    "w ∝ {w_proportional}''')"
   ]
  },
  {
   "cell_type": "code",
   "execution_count": 222,
   "metadata": {},
   "outputs": [
    {
     "name": "stdout",
     "output_type": "stream",
     "text": [
      "w_clf: [-2.59459674 -0.36223565  1.68986516 -0.37538227]\n",
      "w_unit: [-0.82630038 -0.11536107  0.53817081 -0.11954787]\n"
     ]
    }
   ],
   "source": [
    "print(f'w_clf: {w_clf[1:]}\\nw_unit: {unit_vector(w_proportional)}')"
   ]
  },
  {
   "cell_type": "code",
   "execution_count": 223,
   "metadata": {},
   "outputs": [
    {
     "name": "stdout",
     "output_type": "stream",
     "text": [
      "The between class covariance:\n",
      " [[115.6763733   33.30542388 -51.74570425   7.21388389]\n",
      " [ 33.30542388   9.58926381 -14.8985706    2.07701412]\n",
      " [-51.74570425 -14.8985706   23.14749185  -3.22699867]\n",
      " [  7.21388389   2.07701412  -3.22699867   0.44987684]]\n"
     ]
    }
   ],
   "source": [
    "# So w1 has matching signs in both scikit and our calculations.\n",
    "# To check again with our equation 1, we need Sb.\n",
    "\n",
    "Sb = np.matmul(m.reshape(4,1),m.reshape(4,1).T)\n",
    "print(f\"The between class covariance:\\n {Sb}\")"
   ]
  },
  {
   "cell_type": "code",
   "execution_count": 224,
   "metadata": {},
   "outputs": [],
   "source": [
    "# For formula in equation 1, we have different target encoding scheme.\n",
    "N=len(X)\n",
    "N1=len(X[y==1])\n",
    "N2=len(X[y==0])\n",
    "M1= np.array([np.mean(X[y==1][:, i]) for i in range(0,4)])\n",
    "M2= np.array([np.mean(X[y==0][:, i]) for i in range(0,4)])\n",
    "w = np.matmul(np.linalg.inv((Sw + (N1*N2/N)*Sb)), N*(M1-M2))"
   ]
  },
  {
   "cell_type": "code",
   "execution_count": 225,
   "metadata": {},
   "outputs": [
    {
     "name": "stdout",
     "output_type": "stream",
     "text": [
      "\n",
      "Unit Weights from classifier: \n",
      "[-0.19177553 -0.02677408  0.12490372 -0.02774579]\n",
      "\n",
      "Unit Weights from Sw: \n",
      "[-0.82630038 -0.11536107  0.53817081 -0.11954787]\n",
      "\n",
      "Unit Weights from Equation 1: \n",
      "[-0.82630038 -0.11536107  0.53817081 -0.11954787]\n",
      "\n"
     ]
    }
   ],
   "source": [
    "print(f'''\n",
    "Unit Weights from classifier: \n",
    "{unit_vector(w_clf)[1:]}\n",
    "\n",
    "Unit Weights from Sw: \n",
    "{unit_vector(w_proportional)}\n",
    "\n",
    "Unit Weights from Equation 1: \n",
    "{unit_vector(w)}\n",
    "''')"
   ]
  },
  {
   "cell_type": "markdown",
   "metadata": {},
   "source": [
    "All 3 vectors have same direction. \\\n",
    "\\\n",
    "To get same direction from equation 1, we have to change the target encoding scheme since the equation assumes class C1 is the class where, \\\n",
    "\\\n",
    "yi > threshold(0) and remaining are class C2"
   ]
  },
  {
   "cell_type": "markdown",
   "metadata": {},
   "source": [
    "# 2) Linear Multi Classifier"
   ]
  },
  {
   "cell_type": "code",
   "execution_count": 226,
   "metadata": {},
   "outputs": [],
   "source": [
    "from sklearn import datasets\n",
    "X, y = datasets.make_blobs(n_samples = 200, n_features= 4,\n",
    "centers = 4, cluster_std= 2, random_state= 100)"
   ]
  },
  {
   "cell_type": "markdown",
   "metadata": {},
   "source": [
    "## 2.1 LDA Multiclassification"
   ]
  },
  {
   "cell_type": "markdown",
   "metadata": {},
   "source": [
    "### a) Within class and Between class scatter matrix\n"
   ]
  },
  {
   "cell_type": "code",
   "execution_count": 227,
   "metadata": {},
   "outputs": [],
   "source": [
    "# # We have 4 classes 0, 1, 2, 3\n",
    "\n",
    "# m0 = np.array([np.mean(X[y==0][:, i]) for i in range(0,4)])\n",
    "# m1 = np.array([np.mean(X[y==1][:, i]) for i in range(0,4)])\n",
    "# m2 = np.array([np.mean(X[y==2][:, i]) for i in range(0,4)])\n",
    "# m3 = np.array([np.mean(X[y==3][:, i]) for i in range(0,4)])\n",
    "# N0, N1, N2, N3, N = len(X[y==0]),len(X[y==1]),len(X[y==2]),len(X[y==3]), len(X)\n",
    "# m = 1/N * (N0*m0 + N1*m1 + N2*m2 + N3*m3)\n",
    "\n",
    "# print(f'm0: {m0}')\n",
    "# print(f'm1: {m1}')\n",
    "# print(f'm2: {m2}')\n",
    "# print(f'm3: {m3}')\n",
    "# print(f'm: {m}')\n",
    "\n",
    "# Sw0 = np.matmul((X[y==0]-m0).T,(X[y==0]-m0))\n",
    "# Sw1 = np.matmul((X[y==1]-m1).T,(X[y==1]-m1))\n",
    "# Sw2 = np.matmul((X[y==2]-m2).T,(X[y==2]-m2))\n",
    "# Sw3 = np.matmul((X[y==3]-m3).T,(X[y==3]-m3))\n",
    "# Sw1=Sw0+Sw1+Sw2+Sw3\n",
    "# print(f'\\nThe within-class scatter is \\n {Sw1}\\n')\n",
    "# # Sw_inv = np.linalg.inv(Sw)\n",
    "# # print(f'The inverse within-class covariance is \\n {Sw_inv}')\n",
    "\n",
    "# Sb0 = N0 * np.matmul((m0-m).reshape(4,1),(m0-m).reshape(4,1).T)\n",
    "# Sb1 = N1 * np.matmul((m1-m).reshape(4,1),(m1-m).reshape(4,1).T)\n",
    "# Sb2 = N2 * np.matmul((m2-m).reshape(4,1),(m2-m).reshape(4,1).T)\n",
    "# Sb3 = N3 * np.matmul((m3-m).reshape(4,1),(m3-m).reshape(4,1).T)\n",
    "# Sb1=Sb0+Sb1+Sb2+Sb3\n",
    "# print(f\"\\nThe between class covariance:\\n {Sb1}\")\n"
   ]
  },
  {
   "cell_type": "code",
   "execution_count": 228,
   "metadata": {},
   "outputs": [
    {
     "name": "stdout",
     "output_type": "stream",
     "text": [
      "Mean Vector 0: [ 0.67866615 -4.97867298 -1.29679893  6.74684992]\n",
      "\n",
      "Mean Vector 1: [-9.79749136 -7.35371647  3.30524406  6.85846548]\n",
      "\n",
      "Mean Vector 2: [-7.05594358  1.4578088   7.96547405 -5.92063367]\n",
      "\n",
      "Mean Vector 3: [-6.43287841 -8.072347   -5.64148256  9.22435077]\n",
      "\n",
      "The within class scatter is :\n",
      "\n",
      "[[ 944.86936777  100.21789181  182.37376817 -187.03507488]\n",
      " [ 100.21789181  824.81439604   -1.16004932   49.53023336]\n",
      " [ 182.37376817   -1.16004932  806.26599896 -136.51799837]\n",
      " [-187.03507488   49.53023336 -136.51799837  906.700513  ]]\n"
     ]
    }
   ],
   "source": [
    "mean_vectors = []\n",
    "for cl in range(0,4):\n",
    "    mean_vectors.append(np.mean(X[y==cl], axis = 0))\n",
    "    print(\"Mean Vector %s: %s\\n\" %(cl,mean_vectors[cl]))\n",
    "SW = np.zeros((4,4))\n",
    "for cl, mv in zip(range(0,4),mean_vectors):\n",
    "    class_sc_mat = np.zeros((4,4))\n",
    "    for x_ in X[y==cl]:\n",
    "        x_, mv = x_.reshape(4,1), mv.reshape(4,1)\n",
    "        class_sc_mat += (x_-mv).dot((x_-mv).T)\n",
    "    SW += class_sc_mat\n",
    "print(f'The within class scatter is :\\n\\n{SW}')"
   ]
  },
  {
   "cell_type": "code",
   "execution_count": 229,
   "metadata": {},
   "outputs": [
    {
     "name": "stdout",
     "output_type": "stream",
     "text": [
      "Overall Mean: [-5.6519118  -4.73673191  1.08310915  4.22725812]\n",
      "The between class scatter is:\n",
      "\n",
      "[[ 2992.16306127   161.24814615 -1434.48040744   769.39964608]\n",
      " [  161.24814615  2820.29031799  2991.21219433 -4351.26641519]\n",
      " [-1434.48040744  2991.21219433  5159.44631406 -5179.72006171]\n",
      " [  769.39964608 -4351.26641519 -5179.72006171  7061.11189325]]\n"
     ]
    }
   ],
   "source": [
    "Overall_Mean = np.mean(X, axis = 0)\n",
    "print(f'Overall Mean: {Overall_Mean}')\n",
    "SB = np.zeros((4,4))\n",
    "for i, mean_vec in enumerate(mean_vectors):\n",
    "    n = X[y==i, :].shape[0]\n",
    "    mean_vec = mean_vec.reshape(4,1)\n",
    "    overall_mean = Overall_Mean.reshape(4,1)\n",
    "    SB += n*(mean_vec-overall_mean).dot((mean_vec - overall_mean).T)\n",
    "print(f'The between class scatter is:\\n\\n{SB}')"
   ]
  },
  {
   "cell_type": "markdown",
   "metadata": {},
   "source": [
    "### b) Reducing dimensions and plotting"
   ]
  },
  {
   "cell_type": "code",
   "execution_count": 230,
   "metadata": {},
   "outputs": [
    {
     "name": "stdout",
     "output_type": "stream",
     "text": [
      "Eigenvalue 1 : 1.79e+01\n",
      "Eigenvectors 1: \n",
      "[[-0.40666025]\n",
      " [ 0.44935973]\n",
      " [ 0.52708315]\n",
      " [-0.59572361]]\n",
      "Eigenvalue 2 : 3.54e+00\n",
      "Eigenvectors 2: \n",
      "[[ 0.79649247]\n",
      " [ 0.38902632]\n",
      " [-0.36542897]\n",
      " [-0.28411255]]\n",
      "Eigenvalue 3 : 9.31e-01\n",
      "Eigenvectors 3: \n",
      "[[-0.39045882]\n",
      " [ 0.1573107 ]\n",
      " [-0.77984851]\n",
      " [-0.46328345]]\n",
      "Eigenvalue 4 : 2.97e-17\n",
      "Eigenvectors 4: \n",
      "[[-0.17811888]\n",
      " [ 0.82621802]\n",
      " [ 0.00796513]\n",
      " [ 0.53439125]]\n"
     ]
    }
   ],
   "source": [
    "eigenvalues, eigenvectors = np.linalg.eig(np.linalg.inv(SW).dot(SB))\n",
    "\n",
    "for i in range(len(eigenvalues)):\n",
    "    eigenvectors_sc = eigenvectors[:,i].reshape(4,1)\n",
    "    print(\"Eigenvalue {:} : {:.2e}\".format(i+1,eigenvalues[i].real))\n",
    "    print(\"Eigenvectors {}: \\n{}\".format(i+1, eigenvectors_sc.real))"
   ]
  },
  {
   "cell_type": "code",
   "execution_count": 231,
   "metadata": {},
   "outputs": [
    {
     "name": "stdout",
     "output_type": "stream",
     "text": [
      "Eigenvalues in decreasing order: \n",
      "\n",
      "17.91571396045975\n",
      "3.53643522340268\n",
      "0.9314534781318429\n",
      "2.970154976366423e-17\n"
     ]
    }
   ],
   "source": [
    "eigenvalues, eigenvectors = np.linalg.eig(np.linalg.inv(SW).dot(SB))\n",
    "eigen_pairs = [(np.abs(eigenvalues[i]),eigenvectors[:,i]) for i in range(len(eigenvalues))]\n",
    "\n",
    "eigen_pairs = sorted(eigen_pairs, key = lambda k: k[0], reverse = True)\n",
    "print(\"Eigenvalues in decreasing order: \\n\")\n",
    "for i in eigen_pairs:\n",
    "    print(i[0])"
   ]
  },
  {
   "cell_type": "code",
   "execution_count": 232,
   "metadata": {},
   "outputs": [
    {
     "name": "stdout",
     "output_type": "stream",
     "text": [
      "Eigenvalue 1:  80.04%\n",
      "Eigenvalue 2:  15.80%\n",
      "Eigenvalue 3:  4.16%\n",
      "Eigenvalue 4:  0.00%\n"
     ]
    }
   ],
   "source": [
    "eigenvalues_sum = sum(eigenvalues)\n",
    "for i, j in enumerate(eigen_pairs):\n",
    "    print(\"Eigenvalue {0:}: {1: .2%}\".format (i+1, (j[0]/eigenvalues_sum).real))"
   ]
  },
  {
   "cell_type": "code",
   "execution_count": 233,
   "metadata": {},
   "outputs": [
    {
     "name": "stdout",
     "output_type": "stream",
     "text": [
      "Matrix W:\n",
      " [[-0.40666025  0.79649247]\n",
      " [ 0.44935973  0.38902632]\n",
      " [ 0.52708315 -0.36542897]\n",
      " [-0.59572361 -0.28411255]]\n"
     ]
    }
   ],
   "source": [
    "# Since Eigenvalues 1 & 2 are the majority of contribution, \n",
    "# we construct weight matrix with these two eignenvectors.\n",
    "\n",
    "W = np.hstack((eigen_pairs[0][1].reshape(4,1), eigen_pairs[1][1].reshape(4,1)))\n",
    "print(\"Matrix W:\\n\",W.real)"
   ]
  },
  {
   "cell_type": "code",
   "execution_count": 234,
   "metadata": {},
   "outputs": [],
   "source": [
    "X_lda = X.dot(W)"
   ]
  },
  {
   "cell_type": "code",
   "execution_count": 235,
   "metadata": {},
   "outputs": [
    {
     "data": {
      "image/png": "[encoded data removed]",
      "text/plain": [
       "<Figure size 640x480 with 1 Axes>"
      ]
     },
     "metadata": {},
     "output_type": "display_data"
    }
   ],
   "source": [
    "from matplotlib import pyplot as plt\n",
    "\n",
    "def plot_lda():\n",
    "\n",
    "    ax = plt.subplot(111)\n",
    "    for label,marker,color in zip(\n",
    "        range(0,4),('^', 's', 'o', 'v'),('blue', 'cyan', 'green', 'red')):\n",
    "\n",
    "        plt.scatter(x=X_lda[:,0][y == label],\n",
    "                y=X_lda[:,1][y == label],\n",
    "                marker=marker,\n",
    "                color=color,\n",
    "                alpha=0.7,\n",
    "                label=label\n",
    "                )\n",
    "\n",
    "    plt.xlabel('X1')\n",
    "    plt.ylabel('X2')\n",
    "\n",
    "    legend = plt.legend(loc='lower right', fancybox=True)\n",
    "    legend.get_frame().set_alpha(0.5)\n",
    "    plt.title('After reducing four features to two')\n",
    "\n",
    "    plt.tick_params(axis=\"both\", which=\"both\", bottom=\"off\", top=\"off\",  \n",
    "            labelbottom=\"on\", left=\"off\", right=\"off\", labelleft=\"on\")\n",
    "\n",
    "    ax.spines[\"top\"].set_visible(False)  \n",
    "    ax.spines[\"right\"].set_visible(False)\n",
    "    ax.spines[\"bottom\"].set_visible(False)\n",
    "    ax.spines[\"left\"].set_visible(False)    \n",
    "\n",
    "    plt.grid()\n",
    "    plt.tight_layout\n",
    "    plt.show()\n",
    "\n",
    "plot_lda()"
   ]
  },
  {
   "cell_type": "markdown",
   "metadata": {},
   "source": [
    "All 4 labels are seperated. X1 corresponds to eigenvector with 85% contribution and it is visible that it plays more part in seperation than X2, but X2 cannot be ignored as it seperates red, blue and a part of cyan.\n",
    "Green is the best sepeated label ie. y=2. Red and blue have minor overlaps but overall all of them could be seperated with 3 lines."
   ]
  },
  {
   "cell_type": "markdown",
   "metadata": {},
   "source": [
    "## 2.2 Perceptioin Multiclassification"
   ]
  },
  {
   "cell_type": "markdown",
   "metadata": {},
   "source": [
    "### a) Multiclass Weight matrix"
   ]
  },
  {
   "cell_type": "code",
   "execution_count": 236,
   "metadata": {},
   "outputs": [],
   "source": [
    "def step(X):\n",
    "    return int(1) if X > 0 else int(-1)\n",
    "\n",
    "cl = [0,1,2,3] # class labels "
   ]
  },
  {
   "cell_type": "code",
   "execution_count": 237,
   "metadata": {},
   "outputs": [],
   "source": [
    "def perceptron_multi(w, X, Y, epochs, cl):\n",
    "    weights = []\n",
    "    for i in range(len(cl)):\n",
    "        ynew = np.array([1 if k==cl[i] else -1 for k in Y])\n",
    "        for epoch in np.arange(0, epochs):\n",
    "            for j in range(0,len(ynew)):\n",
    "                h = step(np.dot(np.append(1, X[j]),w))\n",
    "                if h != ynew[j]:\n",
    "                    error = float(h - ynew[j])\n",
    "                    w = w - error*(np.append(1,X[j]))\n",
    "        weights.append(w)\n",
    "    return np.concatenate(weights).reshape(4,5)"
   ]
  },
  {
   "cell_type": "code",
   "execution_count": 238,
   "metadata": {},
   "outputs": [],
   "source": [
    "w = np.array([0, 0, 0, 0, 0])\n",
    "w = perceptron_multi(w, X, y, 500, cl)"
   ]
  },
  {
   "cell_type": "code",
   "execution_count": 239,
   "metadata": {},
   "outputs": [
    {
     "name": "stdout",
     "output_type": "stream",
     "text": [
      "The weight matrix is as follows:\n",
      "\n",
      " [[   74.           136.05277577    -6.91504054     3.75526336\n",
      "     36.13104496]\n",
      " [-1606.           -78.36842769   -62.09311314   104.26316832\n",
      "    103.62517625]\n",
      " [-1596.           -76.93554633    56.00681384   174.29770436\n",
      "   -103.16555592]\n",
      " [-1398.           -54.22747334   -69.41417614  -157.62142436\n",
      "     69.25256071]]\n"
     ]
    }
   ],
   "source": [
    "print(f'The weight matrix is as follows:\\n\\n {w}')"
   ]
  },
  {
   "cell_type": "code",
   "execution_count": 240,
   "metadata": {},
   "outputs": [
    {
     "name": "stdout",
     "output_type": "stream",
     "text": [
      "The weight matrix is as follows:\n",
      "\n",
      " [[ 0.02752986  0.05061505 -0.00257257  0.00139705  0.01344166]\n",
      " [-0.59747231 -0.02915502 -0.0231002   0.03878852  0.03855117]\n",
      " [-0.59375206 -0.02862195  0.02083594  0.06484312 -0.03838018]\n",
      " [-0.52009109 -0.02017398 -0.02582382 -0.05863913  0.02576369]]\n"
     ]
    }
   ],
   "source": [
    "print(f'The weight matrix is as follows:\\n\\n {unit_vector(w)}')"
   ]
  },
  {
   "cell_type": "markdown",
   "metadata": {},
   "source": [
    "### b) Writing the multistep function"
   ]
  },
  {
   "cell_type": "code",
   "execution_count": 241,
   "metadata": {},
   "outputs": [],
   "source": [
    "def multi_stepfunction(w, X, cl):\n",
    "    preds = []\n",
    "    for i in range(len(X)):\n",
    "        predict = -10000\n",
    "        label = -1\n",
    "        for j in cl:\n",
    "            pred = np.dot((np.append(np.ones(1),X[i])),w[cl.index(j)])\n",
    "            if pred > predict:\n",
    "                predict = pred\n",
    "                label = j\n",
    "        preds.append(label)\n",
    "    return preds\n",
    "        \n",
    "\n",
    "def perceptron_accuracy(y, Y):\n",
    "    print(f'accuracy of perceptron implementation: {accuracy_score(y,Y)*100:.2f}%')"
   ]
  },
  {
   "cell_type": "code",
   "execution_count": 242,
   "metadata": {},
   "outputs": [
    {
     "name": "stdout",
     "output_type": "stream",
     "text": [
      "[2] [2]\n"
     ]
    }
   ],
   "source": [
    "# Checking weather individual X match with predict.\n",
    "k = 45\n",
    "Y = multi_stepfunction(w, X[k-1:k], cl)\n",
    "print(Y, y[k-1:k])\n"
   ]
  },
  {
   "cell_type": "code",
   "execution_count": 243,
   "metadata": {},
   "outputs": [
    {
     "name": "stdout",
     "output_type": "stream",
     "text": [
      "accuracy of perceptron implementation: 97.00%\n"
     ]
    }
   ],
   "source": [
    "final_preds = multi_stepfunction(w, X, cl)\n",
    "perceptron_accuracy(y,final_preds)"
   ]
  },
  {
   "cell_type": "markdown",
   "metadata": {},
   "source": [
    "### c) Comparing weight matrix from 2.1"
   ]
  },
  {
   "cell_type": "code",
   "execution_count": 244,
   "metadata": {},
   "outputs": [
    {
     "data": {
      "text/plain": [
       "array([[-0.40666025,  0.79649247],\n",
       "       [ 0.44935973,  0.38902632],\n",
       "       [ 0.52708315, -0.36542897],\n",
       "       [-0.59572361, -0.28411255]])"
      ]
     },
     "execution_count": 244,
     "metadata": {},
     "output_type": "execute_result"
    }
   ],
   "source": [
    "# Compared to the W we found here, in 2.1 W had only 2 columns \n",
    "# since we chose 2 eigenvectors\n",
    "W"
   ]
  },
  {
   "cell_type": "code",
   "execution_count": 245,
   "metadata": {},
   "outputs": [],
   "source": [
    "cl = [0, 1, 2, 3]\n",
    "def multi_stepfunction2(w, X, cl):\n",
    "    preds = []\n",
    "    for i in range(len(X)):\n",
    "        pred = np.dot(X[i],W)\n",
    "        if pred[0] > 5:\n",
    "            label = cl[2]\n",
    "        elif pred[0] > -5 and pred[1] < -7.5:\n",
    "            label = cl[1]\n",
    "        elif pred[0] < 0 and pred[1] > -6:\n",
    "            label = cl[0]\n",
    "        else:\n",
    "            label = cl[3]\n",
    "        preds.append(label)\n",
    "    return preds"
   ]
  },
  {
   "cell_type": "markdown",
   "metadata": {},
   "source": [
    "Conditions are written from a visual glance. Better conditions can be written through calculations."
   ]
  },
  {
   "cell_type": "code",
   "execution_count": 246,
   "metadata": {},
   "outputs": [
    {
     "name": "stdout",
     "output_type": "stream",
     "text": [
      "Accuracy obtained from LDA: 95.00\n"
     ]
    }
   ],
   "source": [
    "final_preds2 = multi_stepfunction2(w, X, cl)\n",
    "print(f'Accuracy obtained from LDA: {accuracy_score(y, final_preds2)*100:.2f}')"
   ]
  },
  {
   "cell_type": "markdown",
   "metadata": {},
   "source": [
    "# 3) Ridge Regularization"
   ]
  },
  {
   "cell_type": "markdown",
   "metadata": {},
   "source": [
    "### a) Ridge"
   ]
  },
  {
   "cell_type": "code",
   "execution_count": 247,
   "metadata": {},
   "outputs": [],
   "source": [
    "import pandas as pd\n",
    "df = pd.read_csv('save.csv')"
   ]
  },
  {
   "cell_type": "code",
   "execution_count": 248,
   "metadata": {},
   "outputs": [
    {
     "data": {
      "text/html": [
       "<div>\n",
       "<style scoped>\n",
       "    .dataframe tbody tr th:only-of-type {\n",
       "        vertical-align: middle;\n",
       "    }\n",
       "\n",
       "    .dataframe tbody tr th {\n",
       "        vertical-align: top;\n",
       "    }\n",
       "\n",
       "    .dataframe thead th {\n",
       "        text-align: right;\n",
       "    }\n",
       "</style>\n",
       "<table border=\"1\" class=\"dataframe\">\n",
       "  <thead>\n",
       "    <tr style=\"text-align: right;\">\n",
       "      <th></th>\n",
       "      <th>Unnamed: 0</th>\n",
       "      <th>X1 transaction date</th>\n",
       "      <th>X2 house age</th>\n",
       "      <th>X3 distance to the nearest MRT station</th>\n",
       "      <th>X4 number of convenience stores</th>\n",
       "      <th>X5 latitude</th>\n",
       "      <th>X6 longitude</th>\n",
       "      <th>Y house price of unit area</th>\n",
       "    </tr>\n",
       "  </thead>\n",
       "  <tbody>\n",
       "    <tr>\n",
       "      <th>0</th>\n",
       "      <td>212</td>\n",
       "      <td>0.727074</td>\n",
       "      <td>0.652898</td>\n",
       "      <td>0.818724</td>\n",
       "      <td>0.529111</td>\n",
       "      <td>0.903132</td>\n",
       "      <td>0.424780</td>\n",
       "      <td>0.303665</td>\n",
       "    </tr>\n",
       "    <tr>\n",
       "      <th>1</th>\n",
       "      <td>15</td>\n",
       "      <td>1.000000</td>\n",
       "      <td>0.908825</td>\n",
       "      <td>0.574256</td>\n",
       "      <td>0.529111</td>\n",
       "      <td>0.816687</td>\n",
       "      <td>0.853719</td>\n",
       "      <td>0.642234</td>\n",
       "    </tr>\n",
       "  </tbody>\n",
       "</table>\n",
       "</div>"
      ],
      "text/plain": [
       "   Unnamed: 0  X1 transaction date  X2 house age  \\\n",
       "0         212             0.727074      0.652898   \n",
       "1          15             1.000000      0.908825   \n",
       "\n",
       "   X3 distance to the nearest MRT station  X4 number of convenience stores  \\\n",
       "0                                0.818724                         0.529111   \n",
       "1                                0.574256                         0.529111   \n",
       "\n",
       "   X5 latitude  X6 longitude  Y house price of unit area  \n",
       "0     0.903132      0.424780                    0.303665  \n",
       "1     0.816687      0.853719                    0.642234  "
      ]
     },
     "execution_count": 248,
     "metadata": {},
     "output_type": "execute_result"
    }
   ],
   "source": [
    "df.head(2)"
   ]
  },
  {
   "cell_type": "code",
   "execution_count": 249,
   "metadata": {},
   "outputs": [],
   "source": [
    "df = df.set_index('Unnamed: 0')\n",
    "df.index.names = [None]"
   ]
  },
  {
   "cell_type": "code",
   "execution_count": 250,
   "metadata": {},
   "outputs": [
    {
     "data": {
      "text/html": [
       "<div>\n",
       "<style scoped>\n",
       "    .dataframe tbody tr th:only-of-type {\n",
       "        vertical-align: middle;\n",
       "    }\n",
       "\n",
       "    .dataframe tbody tr th {\n",
       "        vertical-align: top;\n",
       "    }\n",
       "\n",
       "    .dataframe thead th {\n",
       "        text-align: right;\n",
       "    }\n",
       "</style>\n",
       "<table border=\"1\" class=\"dataframe\">\n",
       "  <thead>\n",
       "    <tr style=\"text-align: right;\">\n",
       "      <th></th>\n",
       "      <th>X1 transaction date</th>\n",
       "      <th>X2 house age</th>\n",
       "      <th>X3 distance to the nearest MRT station</th>\n",
       "      <th>X4 number of convenience stores</th>\n",
       "      <th>X5 latitude</th>\n",
       "      <th>X6 longitude</th>\n",
       "      <th>Y house price of unit area</th>\n",
       "    </tr>\n",
       "  </thead>\n",
       "  <tbody>\n",
       "    <tr>\n",
       "      <th>212</th>\n",
       "      <td>0.727074</td>\n",
       "      <td>0.652898</td>\n",
       "      <td>0.818724</td>\n",
       "      <td>0.529111</td>\n",
       "      <td>0.903132</td>\n",
       "      <td>0.424780</td>\n",
       "      <td>0.303665</td>\n",
       "    </tr>\n",
       "    <tr>\n",
       "      <th>15</th>\n",
       "      <td>1.000000</td>\n",
       "      <td>0.908825</td>\n",
       "      <td>0.574256</td>\n",
       "      <td>0.529111</td>\n",
       "      <td>0.816687</td>\n",
       "      <td>0.853719</td>\n",
       "      <td>0.642234</td>\n",
       "    </tr>\n",
       "    <tr>\n",
       "      <th>378</th>\n",
       "      <td>0.727074</td>\n",
       "      <td>0.927647</td>\n",
       "      <td>0.577607</td>\n",
       "      <td>0.915650</td>\n",
       "      <td>0.584040</td>\n",
       "      <td>0.856265</td>\n",
       "      <td>0.413613</td>\n",
       "    </tr>\n",
       "    <tr>\n",
       "      <th>125</th>\n",
       "      <td>0.545852</td>\n",
       "      <td>0.178217</td>\n",
       "      <td>0.315459</td>\n",
       "      <td>0.817272</td>\n",
       "      <td>0.482853</td>\n",
       "      <td>0.763784</td>\n",
       "      <td>0.609075</td>\n",
       "    </tr>\n",
       "    <tr>\n",
       "      <th>109</th>\n",
       "      <td>1.000000</td>\n",
       "      <td>0.326388</td>\n",
       "      <td>0.853980</td>\n",
       "      <td>0.621298</td>\n",
       "      <td>0.428469</td>\n",
       "      <td>0.287870</td>\n",
       "      <td>0.256545</td>\n",
       "    </tr>\n",
       "  </tbody>\n",
       "</table>\n",
       "</div>"
      ],
      "text/plain": [
       "     X1 transaction date  X2 house age  \\\n",
       "212             0.727074      0.652898   \n",
       "15              1.000000      0.908825   \n",
       "378             0.727074      0.927647   \n",
       "125             0.545852      0.178217   \n",
       "109             1.000000      0.326388   \n",
       "\n",
       "     X3 distance to the nearest MRT station  X4 number of convenience stores  \\\n",
       "212                                0.818724                         0.529111   \n",
       "15                                 0.574256                         0.529111   \n",
       "378                                0.577607                         0.915650   \n",
       "125                                0.315459                         0.817272   \n",
       "109                                0.853980                         0.621298   \n",
       "\n",
       "     X5 latitude  X6 longitude  Y house price of unit area  \n",
       "212     0.903132      0.424780                    0.303665  \n",
       "15      0.816687      0.853719                    0.642234  \n",
       "378     0.584040      0.856265                    0.413613  \n",
       "125     0.482853      0.763784                    0.609075  \n",
       "109     0.428469      0.287870                    0.256545  "
      ]
     },
     "execution_count": 250,
     "metadata": {},
     "output_type": "execute_result"
    }
   ],
   "source": [
    "df.head()"
   ]
  },
  {
   "cell_type": "code",
   "execution_count": 251,
   "metadata": {},
   "outputs": [
    {
     "data": {
      "text/html": [
       "<style>#sk-container-id-3 {color: black;}#sk-container-id-3 pre{padding: 0;}#sk-container-id-3 div.sk-toggleable {background-color: white;}#sk-container-id-3 label.sk-toggleable__label {cursor: pointer;display: block;width: 100%;margin-bottom: 0;padding: 0.3em;box-sizing: border-box;text-align: center;}#sk-container-id-3 label.sk-toggleable__label-arrow:before {content: \"▸\";float: left;margin-right: 0.25em;color: #696969;}#sk-container-id-3 label.sk-toggleable__label-arrow:hover:before {color: black;}#sk-container-id-3 div.sk-estimator:hover label.sk-toggleable__label-arrow:before {color: black;}#sk-container-id-3 div.sk-toggleable__content {max-height: 0;max-width: 0;overflow: hidden;text-align: left;background-color: #f0f8ff;}#sk-container-id-3 div.sk-toggleable__content pre {margin: 0.2em;color: black;border-radius: 0.25em;background-color: #f0f8ff;}#sk-container-id-3 input.sk-toggleable__control:checked~div.sk-toggleable__content {max-height: 200px;max-width: 100%;overflow: auto;}#sk-container-id-3 input.sk-toggleable__control:checked~label.sk-toggleable__label-arrow:before {content: \"▾\";}#sk-container-id-3 div.sk-estimator input.sk-toggleable__control:checked~label.sk-toggleable__label {background-color: #d4ebff;}#sk-container-id-3 div.sk-label input.sk-toggleable__control:checked~label.sk-toggleable__label {background-color: #d4ebff;}#sk-container-id-3 input.sk-hidden--visually {border: 0;clip: rect(1px 1px 1px 1px);clip: rect(1px, 1px, 1px, 1px);height: 1px;margin: -1px;overflow: hidden;padding: 0;position: absolute;width: 1px;}#sk-container-id-3 div.sk-estimator {font-family: monospace;background-color: #f0f8ff;border: 1px dotted black;border-radius: 0.25em;box-sizing: border-box;margin-bottom: 0.5em;}#sk-container-id-3 div.sk-estimator:hover {background-color: #d4ebff;}#sk-container-id-3 div.sk-parallel-item::after {content: \"\";width: 100%;border-bottom: 1px solid gray;flex-grow: 1;}#sk-container-id-3 div.sk-label:hover label.sk-toggleable__label {background-color: #d4ebff;}#sk-container-id-3 div.sk-serial::before {content: \"\";position: absolute;border-left: 1px solid gray;box-sizing: border-box;top: 0;bottom: 0;left: 50%;z-index: 0;}#sk-container-id-3 div.sk-serial {display: flex;flex-direction: column;align-items: center;background-color: white;padding-right: 0.2em;padding-left: 0.2em;position: relative;}#sk-container-id-3 div.sk-item {position: relative;z-index: 1;}#sk-container-id-3 div.sk-parallel {display: flex;align-items: stretch;justify-content: center;background-color: white;position: relative;}#sk-container-id-3 div.sk-item::before, #sk-container-id-3 div.sk-parallel-item::before {content: \"\";position: absolute;border-left: 1px solid gray;box-sizing: border-box;top: 0;bottom: 0;left: 50%;z-index: -1;}#sk-container-id-3 div.sk-parallel-item {display: flex;flex-direction: column;z-index: 1;position: relative;background-color: white;}#sk-container-id-3 div.sk-parallel-item:first-child::after {align-self: flex-end;width: 50%;}#sk-container-id-3 div.sk-parallel-item:last-child::after {align-self: flex-start;width: 50%;}#sk-container-id-3 div.sk-parallel-item:only-child::after {width: 0;}#sk-container-id-3 div.sk-dashed-wrapped {border: 1px dashed gray;margin: 0 0.4em 0.5em 0.4em;box-sizing: border-box;padding-bottom: 0.4em;background-color: white;}#sk-container-id-3 div.sk-label label {font-family: monospace;font-weight: bold;display: inline-block;line-height: 1.2em;}#sk-container-id-3 div.sk-label-container {text-align: center;}#sk-container-id-3 div.sk-container {/* jupyter's `normalize.less` sets `[hidden] { display: none; }` but bootstrap.min.css set `[hidden] { display: none !important; }` so we also need the `!important` here to be able to override the default hidden behavior on the sphinx rendered scikit-learn.org. See: https://github.com/scikit-learn/scikit-learn/issues/21755 */display: inline-block !important;position: relative;}#sk-container-id-3 div.sk-text-repr-fallback {display: none;}</style><div id=\"sk-container-id-3\" class=\"sk-top-container\"><div class=\"sk-text-repr-fallback\"><pre>Ridge()</pre><b>In a Jupyter environment, please rerun this cell to show the HTML representation or trust the notebook. <br />On GitHub, the HTML representation is unable to render, please try loading this page with nbviewer.org.</b></div><div class=\"sk-container\" hidden><div class=\"sk-item\"><div class=\"sk-estimator sk-toggleable\"><input class=\"sk-toggleable__control sk-hidden--visually\" id=\"sk-estimator-id-3\" type=\"checkbox\" checked><label for=\"sk-estimator-id-3\" class=\"sk-toggleable__label sk-toggleable__label-arrow\">Ridge</label><div class=\"sk-toggleable__content\"><pre>Ridge()</pre></div></div></div></div></div>"
      ],
      "text/plain": [
       "Ridge()"
      ]
     },
     "execution_count": 251,
     "metadata": {},
     "output_type": "execute_result"
    }
   ],
   "source": [
    "from sklearn.linear_model import Ridge\n",
    "n_samples, n_features = 10, 5\n",
    "np.random.seed(0)\n",
    "y = df[df.columns[6:]]\n",
    "X = df[df.columns[:6]]\n",
    "clf = Ridge(alpha=1.0)\n",
    "clf.fit(X, y) "
   ]
  },
  {
   "cell_type": "code",
   "execution_count": 252,
   "metadata": {},
   "outputs": [
    {
     "data": {
      "text/plain": [
       "array([[ 0.06635707, -0.22957532, -0.42438088,  0.09912705,  0.27228114,\n",
       "         0.07204174]])"
      ]
     },
     "execution_count": 252,
     "metadata": {},
     "output_type": "execute_result"
    }
   ],
   "source": [
    "clf.coef_"
   ]
  },
  {
   "cell_type": "code",
   "execution_count": 253,
   "metadata": {},
   "outputs": [
    {
     "data": {
      "text/plain": [
       "array([[-0.00680593,  0.00312168, -0.05135488, -0.00750695, -0.03702486,\n",
       "        -0.04378826]])"
      ]
     },
     "execution_count": 253,
     "metadata": {},
     "output_type": "execute_result"
    }
   ],
   "source": [
    "hw2_weights = [0.073163, -0.232697, -0.373026, 0.106634, 0.309306, 0.115830]\n",
    "clf.coef_ - hw2_weights"
   ]
  },
  {
   "cell_type": "markdown",
   "metadata": {},
   "source": [
    "We can observe that clf weights are slightly smaller except w2 than Hw2 weights but have same direction."
   ]
  },
  {
   "cell_type": "markdown",
   "metadata": {},
   "source": [
    "### b) My ridge function"
   ]
  },
  {
   "cell_type": "code",
   "execution_count": 254,
   "metadata": {},
   "outputs": [],
   "source": [
    "X = pd.read_csv('trainx.csv')\n",
    "y = pd.read_csv('traint.csv')"
   ]
  },
  {
   "cell_type": "code",
   "execution_count": 255,
   "metadata": {},
   "outputs": [
    {
     "data": {
      "text/plain": [
       "0      0.303665\n",
       "1      0.642234\n",
       "2      0.413613\n",
       "3      0.609075\n",
       "4      0.256545\n",
       "         ...   \n",
       "275    0.209424\n",
       "276    0.312391\n",
       "277    0.225131\n",
       "278    0.453752\n",
       "279    0.017452\n",
       "Name: Y house price of unit area, Length: 280, dtype: float64"
      ]
     },
     "execution_count": 255,
     "metadata": {},
     "output_type": "execute_result"
    }
   ],
   "source": [
    "y = y.squeeze()\n",
    "y"
   ]
  },
  {
   "cell_type": "code",
   "execution_count": 256,
   "metadata": {},
   "outputs": [],
   "source": [
    "import random\n",
    "def mse(preds, test):\n",
    "    mse = np.square(np.subtract(preds, test)).mean()\n",
    "    return mse\n",
    "\n",
    "def my_ridge(x, y, lr, iterations, lamb):\n",
    "    n = len(y)\n",
    "    w0=random.random()\n",
    "    w1=np.random.rand(x.shape[1])\n",
    "    w0_list, w1_list, mse = [], [], []\n",
    "    for i in range(iterations):\n",
    "        h = np.dot(x, w1) + w0\n",
    "        loss = 0.5*(np.square(np.subtract(y, h)).mean() + lamb/np.square(np.linalg.norm(w1)))\n",
    "        dw1 = (1*(x.T).dot(y - h))/n + 2*lamb\n",
    "        dw0 = 1 * (np.sum(y - h))/n + 2*lamb\n",
    "        w1 -= lr*dw1\n",
    "        w0 -= lr*dw0\n",
    "        w1_list.append(w1)\n",
    "        w0_list.append(w0)\n",
    "        mse.append(loss)\n",
    "    print(f'MSE after {iterations} iterations at Lr = {lr} is {mse[-1]}')    \n",
    "    return w1_list, w0_list, mse\n"
   ]
  },
  {
   "cell_type": "code",
   "execution_count": 257,
   "metadata": {},
   "outputs": [],
   "source": [
    "import random\n",
    "def lr_model(features,labels,learning_rate,iterations, lamb):\n",
    "    n = len(labels)\n",
    "    w0=random.random()\n",
    "    w1=np.random.rand(features.shape[1])\n",
    "    w0_list, w1_list, mse = [], [], []\n",
    "    for i in range(iterations):\n",
    "        h = np.dot(features, w1) + w0\n",
    "        loss = np.square(np.subtract(labels, h)).mean() + (lamb/2)*np.square(np.linalg.norm(w1))\n",
    "        dw1 = -(2*(features.T).dot(labels - h))/n + (lamb*np.linalg.norm(w1))\n",
    "        dw0 = -2 * (np.sum(labels - h))/n\n",
    "        w1 -= learning_rate*dw1\n",
    "        w0 -= learning_rate*dw0\n",
    "        w1_list.append(w1)\n",
    "        w0_list.append(w0)\n",
    "        mse.append(loss)\n",
    "    print(f'MSE after {iterations} iterations at Lr = {learning_rate} is {mse[-1]}')    \n",
    "    return w1_list, w0_list, mse"
   ]
  },
  {
   "cell_type": "code",
   "execution_count": 258,
   "metadata": {},
   "outputs": [
    {
     "name": "stdout",
     "output_type": "stream",
     "text": [
      "MSE after 1000 iterations at Lr = 0.1 is 0.012846904483868578\n"
     ]
    }
   ],
   "source": [
    "import warnings\n",
    "#suppress warnings\n",
    "warnings.filterwarnings('ignore')\n",
    "w1, w0, mse = lr_model(X, y,0.1, 1000, 0.001)"
   ]
  },
  {
   "cell_type": "code",
   "execution_count": 259,
   "metadata": {},
   "outputs": [
    {
     "data": {
      "text/plain": [
       "(X1 transaction date                       0.070735\n",
       " X2 house age                             -0.237373\n",
       " X3 distance to the nearest MRT station   -0.398847\n",
       " X4 number of convenience stores           0.100202\n",
       " X5 latitude                               0.301554\n",
       " X6 longitude                              0.099719\n",
       " dtype: float64,\n",
       " 0.4597918209991613)"
      ]
     },
     "execution_count": 259,
     "metadata": {},
     "output_type": "execute_result"
    }
   ],
   "source": [
    "w1[-1], w0[-1]"
   ]
  },
  {
   "cell_type": "code",
   "execution_count": 260,
   "metadata": {},
   "outputs": [
    {
     "data": {
      "text/plain": [
       "[0.073163, -0.232697, -0.373026, 0.106634, 0.309306, 0.11583]"
      ]
     },
     "execution_count": 260,
     "metadata": {},
     "output_type": "execute_result"
    }
   ],
   "source": [
    "hw2_weights"
   ]
  },
  {
   "cell_type": "code",
   "execution_count": 261,
   "metadata": {},
   "outputs": [
    {
     "data": {
      "text/plain": [
       "X1 transaction date                      -0.002428\n",
       "X2 house age                             -0.004676\n",
       "X3 distance to the nearest MRT station   -0.025821\n",
       "X4 number of convenience stores          -0.006432\n",
       "X5 latitude                              -0.007752\n",
       "X6 longitude                             -0.016111\n",
       "dtype: float64"
      ]
     },
     "execution_count": 261,
     "metadata": {},
     "output_type": "execute_result"
    }
   ],
   "source": [
    "w1[-1] - hw2_weights "
   ]
  },
  {
   "cell_type": "markdown",
   "metadata": {},
   "source": [
    "### c) Summary"
   ]
  },
  {
   "cell_type": "markdown",
   "metadata": {},
   "source": [
    "We dont get exact values as hw2 when lambda = 0 is because there is not seed set for weights initialisation and hence each run gives slightly different weights.\n",
    "When we set value of lambda and use ridge regularisation, the weights obtained are slightly smaller due to the lambda value addeed in our loss."
   ]
  }
 ],
 "metadata": {
  "kernelspec": {
   "display_name": "Python 3",
   "language": "python",
   "name": "python3"
  },
  "language_info": {
   "codemirror_mode": {
    "name": "ipython",
    "version": 3
   },
   "file_extension": ".py",
   "mimetype": "text/x-python",
   "name": "python",
   "nbconvert_exporter": "python",
   "pygments_lexer": "ipython3",
   "version": "3.11.5"
  },
  "orig_nbformat": 4
 },
 "nbformat": 4,
 "nbformat_minor": 2
}
